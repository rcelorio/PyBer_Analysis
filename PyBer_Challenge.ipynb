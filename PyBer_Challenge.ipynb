{
 "cells": [
  {
   "cell_type": "code",
   "execution_count": 1,
   "metadata": {},
   "outputs": [],
   "source": [
    "# Add Matplotlib inline magic command\n",
    "%matplotlib inline\n",
    "# Dependencies and Setup\n",
    "import matplotlib.pyplot as plt\n",
    "import pandas as pd\n",
    "import os\n",
    "import matplotlib as mpl \n",
    "from functools import reduce"
   ]
  },
  {
   "cell_type": "code",
   "execution_count": 2,
   "metadata": {},
   "outputs": [],
   "source": [
    "# Files to load\n",
    "city_data_to_load = os.path.join(\"Resources\",\"city_data.csv\")\n",
    "ride_data_to_load = os.path.join(\"Resources\",\"ride_data.csv\")"
   ]
  },
  {
   "cell_type": "code",
   "execution_count": 3,
   "metadata": {},
   "outputs": [],
   "source": [
    "# Read the city data file and store it in a pandas DataFrame.\n",
    "city_data_df = pd.read_csv(city_data_to_load)\n",
    "#city_data_df.head(10)"
   ]
  },
  {
   "cell_type": "code",
   "execution_count": 4,
   "metadata": {},
   "outputs": [],
   "source": [
    "# Read the ride data file and store it in a pandas DataFrame.\n",
    "ride_data_df = pd.read_csv(ride_data_to_load)\n",
    "#ride_data_df.head(10)"
   ]
  },
  {
   "cell_type": "code",
   "execution_count": 5,
   "metadata": {},
   "outputs": [],
   "source": [
    "# Combine the data into a single dataset\n",
    "pyber_data_df = pd.merge(ride_data_df, city_data_df, how=\"left\", on=[\"city\", \"city\"])\n",
    "\n",
    "# Display the DataFrame\n",
    "#pyber_data_df.head()"
   ]
  },
  {
   "cell_type": "code",
   "execution_count": 6,
   "metadata": {},
   "outputs": [],
   "source": [
    "#create data frames for the summaries\n",
    "total_rides = pyber_data_df.groupby(pyber_data_df[\"type\"]).count()[\"ride_id\"].rename(\"Total Rides\")\n",
    "total_drivers = city_data_df.groupby(city_data_df[\"type\"]).sum()[\"driver_count\"].rename(\"Total Drivers\")\n",
    "total_fares = pyber_data_df.groupby(pyber_data_df[\"type\"]).sum()[\"fare\"].rename(\"Total Fares\")\n",
    "avg_fare_per_ride = pyber_data_df.groupby(pyber_data_df[\"type\"]).mean()[\"fare\"].rename(\"Average Fare per Ride\")\n",
    "avg_fare_per_driver = (total_fares/total_drivers).rename(\"Average Fare per Driver\")\n",
    "\n",
    "#total_drivers"
   ]
  },
  {
   "cell_type": "markdown",
   "metadata": {},
   "source": [
    "### Final Summary Dataframe"
   ]
  },
  {
   "cell_type": "code",
   "execution_count": 7,
   "metadata": {},
   "outputs": [
    {
     "data": {
      "text/html": [
       "<style  type=\"text/css\" >\n",
       "</style><table id=\"T_1ac09b2c_4ec8_11ea_a14b_acde48001122\" ><thead>    <tr>        <th class=\"blank level0\" ></th>        <th class=\"col_heading level0 col0\" >Total Rides</th>        <th class=\"col_heading level0 col1\" >Total Drivers</th>        <th class=\"col_heading level0 col2\" >Total Fares</th>        <th class=\"col_heading level0 col3\" >Average Fare per Ride</th>        <th class=\"col_heading level0 col4\" >Average Fare per Driver</th>    </tr></thead><tbody>\n",
       "                <tr>\n",
       "                        <th id=\"T_1ac09b2c_4ec8_11ea_a14b_acde48001122level0_row0\" class=\"row_heading level0 row0\" >Rural</th>\n",
       "                        <td id=\"T_1ac09b2c_4ec8_11ea_a14b_acde48001122row0_col0\" class=\"data row0 col0\" >125</td>\n",
       "                        <td id=\"T_1ac09b2c_4ec8_11ea_a14b_acde48001122row0_col1\" class=\"data row0 col1\" >78</td>\n",
       "                        <td id=\"T_1ac09b2c_4ec8_11ea_a14b_acde48001122row0_col2\" class=\"data row0 col2\" >$4,327.93</td>\n",
       "                        <td id=\"T_1ac09b2c_4ec8_11ea_a14b_acde48001122row0_col3\" class=\"data row0 col3\" >$34.62</td>\n",
       "                        <td id=\"T_1ac09b2c_4ec8_11ea_a14b_acde48001122row0_col4\" class=\"data row0 col4\" >$55.49</td>\n",
       "            </tr>\n",
       "            <tr>\n",
       "                        <th id=\"T_1ac09b2c_4ec8_11ea_a14b_acde48001122level0_row1\" class=\"row_heading level0 row1\" >Suburban</th>\n",
       "                        <td id=\"T_1ac09b2c_4ec8_11ea_a14b_acde48001122row1_col0\" class=\"data row1 col0\" >625</td>\n",
       "                        <td id=\"T_1ac09b2c_4ec8_11ea_a14b_acde48001122row1_col1\" class=\"data row1 col1\" >490</td>\n",
       "                        <td id=\"T_1ac09b2c_4ec8_11ea_a14b_acde48001122row1_col2\" class=\"data row1 col2\" >$19,356.33</td>\n",
       "                        <td id=\"T_1ac09b2c_4ec8_11ea_a14b_acde48001122row1_col3\" class=\"data row1 col3\" >$30.97</td>\n",
       "                        <td id=\"T_1ac09b2c_4ec8_11ea_a14b_acde48001122row1_col4\" class=\"data row1 col4\" >$39.50</td>\n",
       "            </tr>\n",
       "            <tr>\n",
       "                        <th id=\"T_1ac09b2c_4ec8_11ea_a14b_acde48001122level0_row2\" class=\"row_heading level0 row2\" >Urban</th>\n",
       "                        <td id=\"T_1ac09b2c_4ec8_11ea_a14b_acde48001122row2_col0\" class=\"data row2 col0\" >1,625</td>\n",
       "                        <td id=\"T_1ac09b2c_4ec8_11ea_a14b_acde48001122row2_col1\" class=\"data row2 col1\" >2,405</td>\n",
       "                        <td id=\"T_1ac09b2c_4ec8_11ea_a14b_acde48001122row2_col2\" class=\"data row2 col2\" >$39,854.38</td>\n",
       "                        <td id=\"T_1ac09b2c_4ec8_11ea_a14b_acde48001122row2_col3\" class=\"data row2 col3\" >$24.53</td>\n",
       "                        <td id=\"T_1ac09b2c_4ec8_11ea_a14b_acde48001122row2_col4\" class=\"data row2 col4\" >$16.57</td>\n",
       "            </tr>\n",
       "    </tbody></table>"
      ],
      "text/plain": [
       "<pandas.io.formats.style.Styler at 0x114ba5f90>"
      ]
     },
     "execution_count": 7,
     "metadata": {},
     "output_type": "execute_result"
    }
   ],
   "source": [
    "#concatenate the series into a single DF\n",
    "dfs_to_concat = [total_rides,total_drivers,total_fares,avg_fare_per_ride, avg_fare_per_driver]\n",
    "final_summary_df = pd.concat(dfs_to_concat, axis=1)\n",
    "#remove index name\n",
    "final_summary_df.index.name = None\n",
    "#format df for display\n",
    "final_summary_df.style.format({\"Total Rides\": \"{:,}\", \n",
    "                               \"Total Drivers\": \"{:,}\", \n",
    "                               \"Total Fares\": \"${:,.2f}\",\n",
    "                               \"Average Fare per Ride\":\"${:,.2f}\",\n",
    "                               \"Average Fare per Driver\":\"${:,.2f}\"})\n"
   ]
  },
  {
   "cell_type": "code",
   "execution_count": 8,
   "metadata": {},
   "outputs": [
    {
     "data": {
      "text/html": [
       "<div>\n",
       "<style scoped>\n",
       "    .dataframe tbody tr th:only-of-type {\n",
       "        vertical-align: middle;\n",
       "    }\n",
       "\n",
       "    .dataframe tbody tr th {\n",
       "        vertical-align: top;\n",
       "    }\n",
       "\n",
       "    .dataframe thead th {\n",
       "        text-align: right;\n",
       "    }\n",
       "</style>\n",
       "<table border=\"1\" class=\"dataframe\">\n",
       "  <thead>\n",
       "    <tr style=\"text-align: right;\">\n",
       "      <th></th>\n",
       "      <th>City</th>\n",
       "      <th>Date</th>\n",
       "      <th>Fare</th>\n",
       "      <th>Ride Id</th>\n",
       "      <th>No. Drivers</th>\n",
       "      <th>City Type</th>\n",
       "    </tr>\n",
       "    <tr>\n",
       "      <th>Date</th>\n",
       "      <th></th>\n",
       "      <th></th>\n",
       "      <th></th>\n",
       "      <th></th>\n",
       "      <th></th>\n",
       "      <th></th>\n",
       "    </tr>\n",
       "  </thead>\n",
       "  <tbody>\n",
       "    <tr>\n",
       "      <th>2019-01-14 10:14:22</th>\n",
       "      <td>Lake Jonathanshire</td>\n",
       "      <td>2019-01-14 10:14:22</td>\n",
       "      <td>13.83</td>\n",
       "      <td>5739410935873</td>\n",
       "      <td>5</td>\n",
       "      <td>Urban</td>\n",
       "    </tr>\n",
       "    <tr>\n",
       "      <th>2019-03-04 18:24:09</th>\n",
       "      <td>South Michelleport</td>\n",
       "      <td>2019-03-04 18:24:09</td>\n",
       "      <td>30.24</td>\n",
       "      <td>2343912425577</td>\n",
       "      <td>72</td>\n",
       "      <td>Urban</td>\n",
       "    </tr>\n",
       "    <tr>\n",
       "      <th>2019-02-24 04:29:00</th>\n",
       "      <td>Port Samanthamouth</td>\n",
       "      <td>2019-02-24 04:29:00</td>\n",
       "      <td>33.44</td>\n",
       "      <td>2005065760003</td>\n",
       "      <td>57</td>\n",
       "      <td>Urban</td>\n",
       "    </tr>\n",
       "    <tr>\n",
       "      <th>2019-02-10 23:22:03</th>\n",
       "      <td>Rodneyfort</td>\n",
       "      <td>2019-02-10 23:22:03</td>\n",
       "      <td>23.44</td>\n",
       "      <td>5149245426178</td>\n",
       "      <td>34</td>\n",
       "      <td>Urban</td>\n",
       "    </tr>\n",
       "    <tr>\n",
       "      <th>2019-03-06 04:28:35</th>\n",
       "      <td>South Jack</td>\n",
       "      <td>2019-03-06 04:28:35</td>\n",
       "      <td>34.58</td>\n",
       "      <td>3908451377344</td>\n",
       "      <td>46</td>\n",
       "      <td>Urban</td>\n",
       "    </tr>\n",
       "    <tr>\n",
       "      <th>...</th>\n",
       "      <td>...</td>\n",
       "      <td>...</td>\n",
       "      <td>...</td>\n",
       "      <td>...</td>\n",
       "      <td>...</td>\n",
       "      <td>...</td>\n",
       "    </tr>\n",
       "    <tr>\n",
       "      <th>2019-04-29 17:04:39</th>\n",
       "      <td>Michaelberg</td>\n",
       "      <td>2019-04-29 17:04:39</td>\n",
       "      <td>13.38</td>\n",
       "      <td>8550365057598</td>\n",
       "      <td>6</td>\n",
       "      <td>Rural</td>\n",
       "    </tr>\n",
       "    <tr>\n",
       "      <th>2019-01-30 00:05:47</th>\n",
       "      <td>Lake Latoyabury</td>\n",
       "      <td>2019-01-30 00:05:47</td>\n",
       "      <td>20.76</td>\n",
       "      <td>9018727594352</td>\n",
       "      <td>2</td>\n",
       "      <td>Rural</td>\n",
       "    </tr>\n",
       "    <tr>\n",
       "      <th>2019-02-10 21:03:50</th>\n",
       "      <td>North Jaime</td>\n",
       "      <td>2019-02-10 21:03:50</td>\n",
       "      <td>11.11</td>\n",
       "      <td>2781339863778</td>\n",
       "      <td>1</td>\n",
       "      <td>Rural</td>\n",
       "    </tr>\n",
       "    <tr>\n",
       "      <th>2019-05-07 19:22:15</th>\n",
       "      <td>West Heather</td>\n",
       "      <td>2019-05-07 19:22:15</td>\n",
       "      <td>44.94</td>\n",
       "      <td>4256853490277</td>\n",
       "      <td>4</td>\n",
       "      <td>Rural</td>\n",
       "    </tr>\n",
       "    <tr>\n",
       "      <th>2019-04-25 10:20:13</th>\n",
       "      <td>Newtonview</td>\n",
       "      <td>2019-04-25 10:20:13</td>\n",
       "      <td>55.84</td>\n",
       "      <td>9990581345298</td>\n",
       "      <td>1</td>\n",
       "      <td>Rural</td>\n",
       "    </tr>\n",
       "  </tbody>\n",
       "</table>\n",
       "<p>2375 rows × 6 columns</p>\n",
       "</div>"
      ],
      "text/plain": [
       "                                   City                 Date   Fare  \\\n",
       "Date                                                                  \n",
       "2019-01-14 10:14:22  Lake Jonathanshire  2019-01-14 10:14:22  13.83   \n",
       "2019-03-04 18:24:09  South Michelleport  2019-03-04 18:24:09  30.24   \n",
       "2019-02-24 04:29:00  Port Samanthamouth  2019-02-24 04:29:00  33.44   \n",
       "2019-02-10 23:22:03          Rodneyfort  2019-02-10 23:22:03  23.44   \n",
       "2019-03-06 04:28:35          South Jack  2019-03-06 04:28:35  34.58   \n",
       "...                                 ...                  ...    ...   \n",
       "2019-04-29 17:04:39         Michaelberg  2019-04-29 17:04:39  13.38   \n",
       "2019-01-30 00:05:47     Lake Latoyabury  2019-01-30 00:05:47  20.76   \n",
       "2019-02-10 21:03:50         North Jaime  2019-02-10 21:03:50  11.11   \n",
       "2019-05-07 19:22:15        West Heather  2019-05-07 19:22:15  44.94   \n",
       "2019-04-25 10:20:13          Newtonview  2019-04-25 10:20:13  55.84   \n",
       "\n",
       "                           Ride Id  No. Drivers City Type  \n",
       "Date                                                       \n",
       "2019-01-14 10:14:22  5739410935873            5     Urban  \n",
       "2019-03-04 18:24:09  2343912425577           72     Urban  \n",
       "2019-02-24 04:29:00  2005065760003           57     Urban  \n",
       "2019-02-10 23:22:03  5149245426178           34     Urban  \n",
       "2019-03-06 04:28:35  3908451377344           46     Urban  \n",
       "...                            ...          ...       ...  \n",
       "2019-04-29 17:04:39  8550365057598            6     Rural  \n",
       "2019-01-30 00:05:47  9018727594352            2     Rural  \n",
       "2019-02-10 21:03:50  2781339863778            1     Rural  \n",
       "2019-05-07 19:22:15  4256853490277            4     Rural  \n",
       "2019-04-25 10:20:13  9990581345298            1     Rural  \n",
       "\n",
       "[2375 rows x 6 columns]"
      ]
     },
     "execution_count": 8,
     "metadata": {},
     "output_type": "execute_result"
    }
   ],
   "source": [
    "#rename pyber_data_df column names\n",
    "rename_columns = {'city': 'City', 'date':'Date','fare':'Fare', 'ride_id': 'Ride Id','driver_count': 'No. Drivers', 'type':'City Type'}\n",
    "pyber_data_df.rename(columns = rename_columns, inplace = True)\n",
    "\n",
    "#set the index to date\n",
    "pyber_data_df.set_index(\"Date\", inplace=True, drop=False)\n",
    "\n",
    "pyber_data_df\n"
   ]
  },
  {
   "cell_type": "code",
   "execution_count": 16,
   "metadata": {},
   "outputs": [
    {
     "name": "stdout",
     "output_type": "stream",
     "text": [
      "<class 'pandas.core.frame.DataFrame'>\n",
      "DatetimeIndex: 2375 entries, 2019-01-14 10:14:22 to 2019-04-25 10:20:13\n",
      "Data columns (total 2 columns):\n",
      " #   Column     Non-Null Count  Dtype  \n",
      "---  ------     --------------  -----  \n",
      " 0   City Type  2375 non-null   object \n",
      " 1   Fare       2375 non-null   float64\n",
      "dtypes: float64(1), object(1)\n",
      "memory usage: 55.7+ KB\n"
     ]
    }
   ],
   "source": [
    "#Create a new DataFrame for fares and include only the Date, City Type, and Fare columns using the copy() method on the merged DataFrame.\n",
    "fares_data_df = pyber_data_df[['Date','City Type','Fare']].copy()\n",
    "\n",
    "#set index, drop extra date\n",
    "fares_data_df.set_index(\"Date\", inplace=True, drop=True)\n",
    "\n",
    "#set index data type to datetime\n",
    "fares_data_df.index = pd.to_datetime(fares_data_df.index)\n",
    "\n",
    "#check the df with info()\n",
    "fares_data_df.info()"
   ]
  },
  {
   "cell_type": "code",
   "execution_count": 17,
   "metadata": {},
   "outputs": [
    {
     "data": {
      "text/plain": [
       "City Type\n",
       "Rural        4327.93\n",
       "Suburban    19356.33\n",
       "Urban       39854.38\n",
       "Name: Fare, dtype: float64"
      ]
     },
     "execution_count": 17,
     "metadata": {},
     "output_type": "execute_result"
    }
   ],
   "source": [
    "#Calculate the sum() of fares by the type of city and date using groupby() to create a new DataFrame.\n",
    "fares_by_type_df = fares_data_df.groupby('City Type').sum()[\"Fare\"]\n",
    "fares_by_type_df"
   ]
  },
  {
   "cell_type": "code",
   "execution_count": null,
   "metadata": {},
   "outputs": [],
   "source": []
  }
 ],
 "metadata": {
  "kernelspec": {
   "display_name": "PythonData",
   "language": "python",
   "name": "pythondata"
  },
  "language_info": {
   "codemirror_mode": {
    "name": "ipython",
    "version": 3
   },
   "file_extension": ".py",
   "mimetype": "text/x-python",
   "name": "python",
   "nbconvert_exporter": "python",
   "pygments_lexer": "ipython3",
   "version": "3.7.4"
  }
 },
 "nbformat": 4,
 "nbformat_minor": 4
}
